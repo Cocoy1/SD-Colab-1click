{
  "cells": [
    {
      "cell_type": "markdown",
      "metadata": {
        "id": "view-in-github",
        "colab_type": "text"
      },
      "source": [
        "<a href=\"https://colab.research.google.com/github/Cocoy1/SD-Colab-1click/blob/main/Interfaz_SD.ipynb\" target=\"_parent\"><img src=\"https://colab.research.google.com/assets/colab-badge.svg\" alt=\"Open In Colab\"/></a>"
      ]
    },
    {
      "cell_type": "markdown",
      "source": [
        "# Drive 🗃️"
      ],
      "metadata": {
        "id": "VhK7zmjdgQDm"
      }
    },
    {
      "cell_type": "code",
      "source": [
        "from google.colab import drive\n",
        "drive.mount('/content/drive')"
      ],
      "metadata": {
        "id": "X_HCICYqhMeY"
      },
      "execution_count": null,
      "outputs": []
    },
    {
      "cell_type": "markdown",
      "source": [
        "#  Teléfono 📳"
      ],
      "metadata": {
        "id": "JUtPlg328avv"
      }
    },
    {
      "cell_type": "code",
      "source": [
        "#@markdown # Mantener Móviles\n",
        "%%html\n",
        "<b>Presiona reproducir (El audio solo pesa 13MB)</b><br/>\n",
        "<audio src=\"https://henk.tech/colabkobold/silence.m4a\" controls>"
      ],
      "metadata": {
        "id": "QPvPdIwitqSV",
        "colab": {
          "base_uri": "https://localhost:8080/"
        },
        "outputId": "3d450b59-766f-4c5f-a729-f19d14821773"
      },
      "execution_count": null,
      "outputs": [
        {
          "output_type": "display_data",
          "data": {
            "text/plain": [
              "<IPython.core.display.HTML object>"
            ],
            "text/html": [
              "<b>Presiona reproducir (El audio solo pesa 13MB)</b><br/>\n",
              "<audio src=\"https://henk.tech/colabkobold/silence.m4a\" controls>\n"
            ]
          },
          "metadata": {}
        }
      ]
    },
    {
      "cell_type": "markdown",
      "source": [
        "#1. Configurar ⚙️"
      ],
      "metadata": {
        "id": "bsiZpfkU7S77"
      }
    },
    {
      "cell_type": "code",
      "execution_count": null,
      "metadata": {
        "id": "sBbcB4vwj_jm",
        "colab": {
          "base_uri": "https://localhost:8080/"
        },
        "outputId": "26fd6a70-1922-40b3-8302-bb1d8e739597"
      },
      "outputs": [
        {
          "output_type": "stream",
          "name": "stdout",
          "text": [
            "Cloning into '/content/microsoftexcel/extensions/microsoftexcel-controlnet'...\n",
            "remote: Enumerating objects: 7212, done.\u001b[K\n",
            "remote: Counting objects: 100% (113/113), done.\u001b[K\n",
            "remote: Compressing objects: 100% (56/56), done.\u001b[K\n",
            "remote: Total 7212 (delta 68), reused 94 (delta 57), pack-reused 7099\u001b[K\n",
            "Receiving objects: 100% (7212/7212), 15.59 MiB | 16.62 MiB/s, done.\n",
            "Resolving deltas: 100% (4052/4052), done.\n",
            "Cloning into '/content/microsoftexcel/extensions/a1111-microsoftexcel-tagcomplete'...\n",
            "remote: Enumerating objects: 1341, done.\u001b[K\n",
            "remote: Counting objects: 100% (460/460), done.\u001b[K\n",
            "remote: Compressing objects: 100% (153/153), done.\u001b[K\n",
            "remote: Total 1341 (delta 323), reused 362 (delta 307), pack-reused 881\u001b[K\n",
            "Receiving objects: 100% (1341/1341), 3.88 MiB | 15.94 MiB/s, done.\n",
            "Resolving deltas: 100% (767/767), done.\n",
            "mkdir: cannot create directory ‘/content/microsoftexcel/models/ESRGAN’: No such file or directory\n",
            "  % Total    % Received % Xferd  Average Speed   Time    Time     Time  Current\n",
            "                                 Dload  Upload   Total   Spent    Left  Speed\n",
            "100  1237  100  1237    0     0   4832      0 --:--:-- --:--:-- --:--:--  4832\n",
            "100 68776  100 68776    0     0   236k      0 --:--:-- --:--:-- --:--:--  236k\n",
            "  % Total    % Received % Xferd  Average Speed   Time    Time     Time  Current\n",
            "                                 Dload  Upload   Total   Spent    Left  Speed\n",
            "100  1197  100  1197    0     0   1722      0 --:--:-- --:--:-- --:--:--  1722\n",
            "Warning: Failed to create the file \n",
            "Warning: /content/microsoftexcel/embeddings/embeddings.zip: No such file or \n",
            "Warning: directory\n",
            "  1 1315k    1 15867    0     0  22129      0  0:01:00 --:--:--  0:01:00 22129\n",
            "curl: (23) Failed writing body (0 != 15867)\n",
            "  % Total    % Received % Xferd  Average Speed   Time    Time     Time  Current\n",
            "                                 Dload  Upload   Total   Spent    Left  Speed\n",
            "100  1197  100  1197    0     0   4568      0 --:--:-- --:--:-- --:--:--  4568\n",
            "Warning: Failed to create the file \n",
            "Warning: /content/microsoftexcel/models/ESRGAN/upscalers.zip: No such file or \n",
            "Warning: directory\n",
            "  0  118M    0 15864    0     0  52880      0  0:39:04 --:--:--  0:39:04 52880\n",
            "curl: (23) Failed writing body (0 != 15864)\n",
            "/content/microsoftexcel/extensions\n",
            "Archive:  /content/microsoftexcel/extensions/microsoftexcel-images-browser.zip\n",
            "   creating: sd-webui-images-browser/\n",
            "  inflating: sd-webui-images-browser/.DS_Store  \n",
            "   creating: sd-webui-images-browser/.git/\n",
            "   creating: sd-webui-images-browser/.git/branches/\n",
            "  inflating: sd-webui-images-browser/.git/config  \n",
            "  inflating: sd-webui-images-browser/.git/description  \n",
            "  inflating: sd-webui-images-browser/.git/HEAD  \n",
            "   creating: sd-webui-images-browser/.git/hooks/\n",
            "  inflating: sd-webui-images-browser/.git/hooks/applypatch-msg.sample  \n",
            "  inflating: sd-webui-images-browser/.git/hooks/commit-msg.sample  \n",
            "  inflating: sd-webui-images-browser/.git/hooks/fsmonitor-watchman.sample  \n",
            "  inflating: sd-webui-images-browser/.git/hooks/post-update.sample  \n",
            "  inflating: sd-webui-images-browser/.git/hooks/pre-applypatch.sample  \n",
            "  inflating: sd-webui-images-browser/.git/hooks/pre-commit.sample  \n",
            "  inflating: sd-webui-images-browser/.git/hooks/pre-merge-commit.sample  \n",
            "  inflating: sd-webui-images-browser/.git/hooks/pre-push.sample  \n",
            "  inflating: sd-webui-images-browser/.git/hooks/pre-rebase.sample  \n",
            "  inflating: sd-webui-images-browser/.git/hooks/pre-receive.sample  \n",
            "  inflating: sd-webui-images-browser/.git/hooks/prepare-commit-msg.sample  \n",
            "  inflating: sd-webui-images-browser/.git/hooks/update.sample  \n",
            "  inflating: sd-webui-images-browser/.git/index  \n",
            "   creating: sd-webui-images-browser/.git/info/\n",
            "  inflating: sd-webui-images-browser/.git/info/exclude  \n",
            "   creating: sd-webui-images-browser/.git/logs/\n",
            "  inflating: sd-webui-images-browser/.git/logs/HEAD  \n",
            "   creating: sd-webui-images-browser/.git/logs/refs/\n",
            "   creating: sd-webui-images-browser/.git/logs/refs/heads/\n",
            "  inflating: sd-webui-images-browser/.git/logs/refs/heads/main  \n",
            "   creating: sd-webui-images-browser/.git/logs/refs/remotes/\n",
            "   creating: sd-webui-images-browser/.git/logs/refs/remotes/origin/\n",
            "  inflating: sd-webui-images-browser/.git/logs/refs/remotes/origin/HEAD  \n",
            "   creating: sd-webui-images-browser/.git/objects/\n",
            "   creating: sd-webui-images-browser/.git/objects/info/\n",
            "   creating: sd-webui-images-browser/.git/objects/pack/\n",
            "  inflating: sd-webui-images-browser/.git/objects/pack/pack-8c09dc0723b064b3aad4351dc4af51e311b0601c.idx  \n",
            "  inflating: sd-webui-images-browser/.git/objects/pack/pack-8c09dc0723b064b3aad4351dc4af51e311b0601c.pack  \n",
            "  inflating: sd-webui-images-browser/.git/packed-refs  \n",
            "   creating: sd-webui-images-browser/.git/refs/\n",
            "   creating: sd-webui-images-browser/.git/refs/heads/\n",
            "  inflating: sd-webui-images-browser/.git/refs/heads/main  \n",
            "   creating: sd-webui-images-browser/.git/refs/remotes/\n",
            "   creating: sd-webui-images-browser/.git/refs/remotes/origin/\n",
            "  inflating: sd-webui-images-browser/.git/refs/remotes/origin/HEAD  \n",
            "   creating: sd-webui-images-browser/.git/refs/tags/\n",
            "  inflating: sd-webui-images-browser/.gitignore  \n",
            "   creating: sd-webui-images-browser/javascript/\n",
            "  inflating: sd-webui-images-browser/javascript/images_history.js  \n",
            "  inflating: sd-webui-images-browser/README.md  \n",
            "   creating: sd-webui-images-browser/scripts/\n",
            "  inflating: sd-webui-images-browser/scripts/images_history.py  \n",
            "[Errno 2] No such file or directory: '/content/microsoftexcel/embeddings'\n",
            "/content/microsoftexcel/extensions\n",
            "unzip:  cannot find or open /content/microsoftexcel/embeddings/embeddings.zip, /content/microsoftexcel/embeddings/embeddings.zip.zip or /content/microsoftexcel/embeddings/embeddings.zip.ZIP.\n",
            "[Errno 2] No such file or directory: '/content/microsoftexcel/models/ESRGAN'\n",
            "/content/microsoftexcel/extensions\n",
            "unzip:  cannot find or open /content/microsoftexcel/models/ESRGAN/upscalers.zip, /content/microsoftexcel/models/ESRGAN/upscalers.zip.zip or /content/microsoftexcel/models/ESRGAN/upscalers.zip.ZIP.\n",
            "rm: cannot remove 'upscalers.zip': No such file or directory\n",
            "/content\n",
            "  % Total    % Received % Xferd  Average Speed   Time    Time     Time  Current\n",
            "                                 Dload  Upload   Total   Spent    Left  Speed\n",
            "100  1207  100  1207    0     0   4789      0 --:--:-- --:--:-- --:--:--  4770\n",
            "100 1694k  100 1694k    0     0  5183k      0 --:--:-- --:--:-- --:--:-- 5183k\n",
            "Archive:  /content/microsoftexcel.zip\n",
            "  inflating: microsoftexcel/.eslintignore  \n",
            "  inflating: microsoftexcel/.eslintrc.js  \n",
            "  inflating: microsoftexcel/.git-blame-ignore-revs  \n",
            "   creating: microsoftexcel/.github/\n",
            "   creating: microsoftexcel/.github/ISSUE_TEMPLATE/\n",
            "  inflating: microsoftexcel/.github/ISSUE_TEMPLATE/bug_report.yml  \n",
            "  inflating: microsoftexcel/.github/ISSUE_TEMPLATE/config.yml  \n",
            "  inflating: microsoftexcel/.github/ISSUE_TEMPLATE/feature_request.yml  \n",
            "  inflating: microsoftexcel/.github/pull_request_template.md  \n",
            "   creating: microsoftexcel/.github/workflows/\n",
            "  inflating: microsoftexcel/.github/workflows/on_pull_request.yaml  \n",
            "  inflating: microsoftexcel/.github/workflows/run_tests.yaml  \n",
            "  inflating: microsoftexcel/.gitignore  \n",
            "  inflating: microsoftexcel/.pylintrc  \n",
            "  inflating: microsoftexcel/CHANGELOG.md  \n",
            "  inflating: microsoftexcel/CODEOWNERS  \n",
            "   creating: microsoftexcel/configs/\n",
            "  inflating: microsoftexcel/configs/alt-diffusion-inference.yaml  \n",
            "  inflating: microsoftexcel/configs/instruct-pix2pix.yaml  \n",
            "  inflating: microsoftexcel/configs/v1-inference.yaml  \n",
            "  inflating: microsoftexcel/configs/v1-inpainting-inference.yaml  \n",
            "   creating: microsoftexcel/embeddings/\n",
            " extracting: microsoftexcel/embeddings/Place Textual Inversion embeddings here.txt  \n",
            "  inflating: microsoftexcel/environment-wsl2.yaml  \n",
            " extracting: microsoftexcel/extensions/put extensions here.txt  \n",
            "   creating: microsoftexcel/extensions-builtin/\n",
            "   creating: microsoftexcel/extensions-builtin/LDSR/\n",
            "  inflating: microsoftexcel/extensions-builtin/LDSR/ldsr_model_arch.py  \n",
            "  inflating: microsoftexcel/extensions-builtin/LDSR/preload.py  \n",
            "   creating: microsoftexcel/extensions-builtin/LDSR/scripts/\n",
            "  inflating: microsoftexcel/extensions-builtin/LDSR/scripts/ldsr_model.py  \n",
            "  inflating: microsoftexcel/extensions-builtin/LDSR/sd_hijack_autoencoder.py  \n",
            "  inflating: microsoftexcel/extensions-builtin/LDSR/sd_hijack_ddpm_v1.py  \n",
            "   creating: microsoftexcel/extensions-builtin/Lora/\n",
            "  inflating: microsoftexcel/extensions-builtin/Lora/extra_networks_lora.py  \n",
            "  inflating: microsoftexcel/extensions-builtin/Lora/lora.py  \n",
            "  inflating: microsoftexcel/extensions-builtin/Lora/preload.py  \n",
            "   creating: microsoftexcel/extensions-builtin/Lora/scripts/\n",
            "  inflating: microsoftexcel/extensions-builtin/Lora/scripts/lora_script.py  \n",
            "  inflating: microsoftexcel/extensions-builtin/Lora/ui_extra_networks_lora.py  \n",
            "   creating: microsoftexcel/extensions-builtin/prompt-bracket-checker/\n",
            "   creating: microsoftexcel/extensions-builtin/prompt-bracket-checker/javascript/\n",
            "  inflating: microsoftexcel/extensions-builtin/prompt-bracket-checker/javascript/prompt-bracket-checker.js  \n",
            "   creating: microsoftexcel/extensions-builtin/ScuNET/\n",
            "  inflating: microsoftexcel/extensions-builtin/ScuNET/preload.py  \n",
            "   creating: microsoftexcel/extensions-builtin/ScuNET/scripts/\n",
            "  inflating: microsoftexcel/extensions-builtin/ScuNET/scripts/scunet_model.py  \n",
            "  inflating: microsoftexcel/extensions-builtin/ScuNET/scunet_model_arch.py  \n",
            "   creating: microsoftexcel/extensions-builtin/SwinIR/\n",
            "  inflating: microsoftexcel/extensions-builtin/SwinIR/preload.py  \n",
            "   creating: microsoftexcel/extensions-builtin/SwinIR/scripts/\n",
            "  inflating: microsoftexcel/extensions-builtin/SwinIR/scripts/swinir_model.py  \n",
            "  inflating: microsoftexcel/extensions-builtin/SwinIR/swinir_model_arch.py  \n",
            "  inflating: microsoftexcel/extensions-builtin/SwinIR/swinir_model_arch_v2.py  \n",
            "   creating: microsoftexcel/html/\n",
            "  inflating: microsoftexcel/html/card-no-preview.png  \n",
            "  inflating: microsoftexcel/html/extra-networks-card.html  \n",
            "  inflating: microsoftexcel/html/extra-networks-no-cards.html  \n",
            "  inflating: microsoftexcel/html/footer.html  \n",
            "  inflating: microsoftexcel/html/image-update.svg  \n",
            "  inflating: microsoftexcel/html/licenses.html  \n",
            "   creating: microsoftexcel/javascript/\n",
            "  inflating: microsoftexcel/javascript/aspectRatioOverlay.js  \n",
            "  inflating: microsoftexcel/javascript/contextMenus.js  \n",
            "  inflating: microsoftexcel/javascript/dragdrop.js  \n",
            "  inflating: microsoftexcel/javascript/edit-attention.js  \n",
            "  inflating: microsoftexcel/javascript/extensions.js  \n",
            "  inflating: microsoftexcel/javascript/extraNetworks.js  \n",
            "  inflating: microsoftexcel/javascript/generationParams.js  \n",
            "  inflating: microsoftexcel/javascript/hints.js  \n",
            "  inflating: microsoftexcel/javascript/hires_fix.js  \n",
            "  inflating: microsoftexcel/javascript/imageMaskFix.js  \n",
            "  inflating: microsoftexcel/javascript/imageParams.js  \n",
            "  inflating: microsoftexcel/javascript/imageviewer.js  \n",
            "  inflating: microsoftexcel/javascript/imageviewerGamepad.js  \n",
            "  inflating: microsoftexcel/javascript/localization.js  \n",
            "  inflating: microsoftexcel/javascript/notification.js  \n",
            "  inflating: microsoftexcel/javascript/progressbar.js  \n",
            "  inflating: microsoftexcel/javascript/textualInversion.js  \n",
            "  inflating: microsoftexcel/javascript/ui.js  \n",
            "  inflating: microsoftexcel/javascript/ui_settings_hints.js  \n",
            "  inflating: microsoftexcel/launch.py  \n",
            "  inflating: microsoftexcel/LICENSE.txt  \n",
            "   creating: microsoftexcel/localizations/\n",
            " extracting: microsoftexcel/localizations/Put localization files here.txt  \n",
            "   creating: microsoftexcel/models/\n",
            "   creating: microsoftexcel/models/deepbooru/\n",
            " extracting: microsoftexcel/models/deepbooru/Put your deepbooru release project folder here.txt  \n",
            "   creating: microsoftexcel/models/karlo/\n",
            "  inflating: microsoftexcel/models/karlo/ViT-L-14_stats.th  \n",
            "   creating: microsoftexcel/models/Stable-diffusion/\n",
            " extracting: microsoftexcel/models/Stable-diffusion/Put Stable Diffusion checkpoints here.txt  \n",
            "   creating: microsoftexcel/models/VAE/\n",
            " extracting: microsoftexcel/models/VAE/Put VAE here.txt  \n",
            "   creating: microsoftexcel/models/VAE-approx/\n",
            "  inflating: microsoftexcel/models/VAE-approx/model.pt  \n",
            "   creating: microsoftexcel/modules/\n",
            "   creating: microsoftexcel/modules/api/\n",
            "  inflating: microsoftexcel/modules/api/api.py  \n",
            "  inflating: microsoftexcel/modules/api/models.py  \n",
            "  inflating: microsoftexcel/modules/call_queue.py  \n",
            "  inflating: microsoftexcel/modules/cmd_args.py  \n",
            "   creating: microsoftexcel/modules/codeformer/\n",
            "  inflating: microsoftexcel/modules/codeformer/codeformer_arch.py  \n",
            "  inflating: microsoftexcel/modules/codeformer/vqgan_arch.py  \n",
            "  inflating: microsoftexcel/modules/codeformer_model.py  \n",
            "  inflating: microsoftexcel/modules/config_states.py  \n",
            "  inflating: microsoftexcel/modules/deepbooru.py  \n",
            "  inflating: microsoftexcel/modules/deepbooru_model.py  \n",
            "  inflating: microsoftexcel/modules/devices.py  \n",
            "  inflating: microsoftexcel/modules/errors.py  \n",
            "  inflating: microsoftexcel/modules/esrgan_model.py  \n",
            "  inflating: microsoftexcel/modules/esrgan_model_arch.py  \n",
            "  inflating: microsoftexcel/modules/extensions.py  \n",
            "  inflating: microsoftexcel/modules/extras.py  \n",
            "  inflating: microsoftexcel/modules/extra_networks.py  \n",
            "  inflating: microsoftexcel/modules/extra_networks_hypernet.py  \n",
            "  inflating: microsoftexcel/modules/face_restoration.py  \n",
            "  inflating: microsoftexcel/modules/generation_parameters_copypaste.py  \n",
            "  inflating: microsoftexcel/modules/gfpgan_model.py  \n",
            "  inflating: microsoftexcel/modules/hashes.py  \n",
            "   creating: microsoftexcel/modules/hypernetworks/\n",
            "  inflating: microsoftexcel/modules/hypernetworks/hypernetwork.py  \n",
            "  inflating: microsoftexcel/modules/hypernetworks/ui.py  \n",
            "  inflating: microsoftexcel/modules/images.py  \n",
            "  inflating: microsoftexcel/modules/img2img.py  \n",
            "  inflating: microsoftexcel/modules/import_hook.py  \n",
            "  inflating: microsoftexcel/modules/interrogate.py  \n",
            "  inflating: microsoftexcel/modules/launch_utils.py  \n",
            "  inflating: microsoftexcel/modules/localization.py  \n",
            "  inflating: microsoftexcel/modules/lowvram.py  \n",
            "  inflating: microsoftexcel/modules/mac_specific.py  \n",
            "  inflating: microsoftexcel/modules/masking.py  \n",
            "  inflating: microsoftexcel/modules/memmon.py  \n",
            "  inflating: microsoftexcel/modules/modelloader.py  \n",
            "   creating: microsoftexcel/modules/models/\n",
            "   creating: microsoftexcel/modules/models/diffusion/\n",
            "  inflating: microsoftexcel/modules/models/diffusion/ddpm_edit.py  \n",
            "   creating: microsoftexcel/modules/models/diffusion/uni_pc/\n",
            "  inflating: microsoftexcel/modules/models/diffusion/uni_pc/sampler.py  \n",
            "  inflating: microsoftexcel/modules/models/diffusion/uni_pc/uni_pc.py  \n",
            "  inflating: microsoftexcel/modules/models/diffusion/uni_pc/__init__.py  \n",
            "  inflating: microsoftexcel/modules/ngrok.py  \n",
            "  inflating: microsoftexcel/modules/paths.py  \n",
            "  inflating: microsoftexcel/modules/paths_internal.py  \n",
            "  inflating: microsoftexcel/modules/postprocessing.py  \n",
            "  inflating: microsoftexcel/modules/processing.py  \n",
            "  inflating: microsoftexcel/modules/progress.py  \n",
            "  inflating: microsoftexcel/modules/prompt_parser.py  \n",
            "  inflating: microsoftexcel/modules/realesrgan_model.py  \n",
            "  inflating: microsoftexcel/modules/Roboto-Regular.ttf  \n",
            "  inflating: microsoftexcel/modules/safe.py  \n",
            "  inflating: microsoftexcel/modules/scripts.py  \n",
            "  inflating: microsoftexcel/modules/scripts_auto_postprocessing.py  \n",
            "  inflating: microsoftexcel/modules/scripts_postprocessing.py  \n",
            "  inflating: microsoftexcel/modules/script_callbacks.py  \n",
            "  inflating: microsoftexcel/modules/script_loading.py  \n",
            "  inflating: microsoftexcel/modules/sd_disable_initialization.py  \n",
            "  inflating: microsoftexcel/modules/sd_hijack.py  \n",
            "  inflating: microsoftexcel/modules/sd_hijack_checkpoint.py  \n",
            "  inflating: microsoftexcel/modules/sd_hijack_clip.py  \n",
            "  inflating: microsoftexcel/modules/sd_hijack_clip_old.py  \n",
            "  inflating: microsoftexcel/modules/sd_hijack_inpainting.py  \n",
            "  inflating: microsoftexcel/modules/sd_hijack_ip2p.py  \n",
            "  inflating: microsoftexcel/modules/sd_hijack_open_clip.py  \n",
            "  inflating: microsoftexcel/modules/sd_hijack_optimizations.py  \n",
            "  inflating: microsoftexcel/modules/sd_hijack_unet.py  \n",
            "  inflating: microsoftexcel/modules/sd_hijack_utils.py  \n",
            "  inflating: microsoftexcel/modules/sd_hijack_xlmr.py  \n",
            "  inflating: microsoftexcel/modules/sd_models.py  \n",
            "  inflating: microsoftexcel/modules/sd_models_config.py  \n",
            "  inflating: microsoftexcel/modules/sd_samplers.py  \n",
            "  inflating: microsoftexcel/modules/sd_samplers_common.py  \n",
            "  inflating: microsoftexcel/modules/sd_samplers_compvis.py  \n",
            "  inflating: microsoftexcel/modules/sd_samplers_kdiffusion.py  \n",
            "  inflating: microsoftexcel/modules/sd_vae.py  \n",
            "  inflating: microsoftexcel/modules/sd_vae_approx.py  \n",
            "  inflating: microsoftexcel/modules/sd_vae_taesd.py  \n",
            "  inflating: microsoftexcel/modules/shared.py  \n",
            "  inflating: microsoftexcel/modules/shared_items.py  \n",
            "  inflating: microsoftexcel/modules/styles.py  \n",
            "  inflating: microsoftexcel/modules/sub_quadratic_attention.py  \n",
            "   creating: microsoftexcel/modules/textual_inversion/\n",
            "  inflating: microsoftexcel/modules/textual_inversion/autocrop.py  \n",
            "  inflating: microsoftexcel/modules/textual_inversion/dataset.py  \n",
            "  inflating: microsoftexcel/modules/textual_inversion/image_embedding.py  \n",
            "  inflating: microsoftexcel/modules/textual_inversion/learn_schedule.py  \n",
            "  inflating: microsoftexcel/modules/textual_inversion/logging.py  \n",
            "  inflating: microsoftexcel/modules/textual_inversion/preprocess.py  \n",
            "  inflating: microsoftexcel/modules/textual_inversion/test_embedding.png  \n",
            "  inflating: microsoftexcel/modules/textual_inversion/textual_inversion.py  \n",
            "  inflating: microsoftexcel/modules/textual_inversion/ui.py  \n",
            "  inflating: microsoftexcel/modules/timer.py  \n",
            "  inflating: microsoftexcel/modules/txt2img.py  \n",
            "  inflating: microsoftexcel/modules/ui.py  \n",
            "  inflating: microsoftexcel/modules/ui_common.py  \n",
            "  inflating: microsoftexcel/modules/ui_components.py  \n",
            "  inflating: microsoftexcel/modules/ui_extensions.py  \n",
            "  inflating: microsoftexcel/modules/ui_extra_networks.py  \n",
            "  inflating: microsoftexcel/modules/ui_extra_networks_checkpoints.py  \n",
            "  inflating: microsoftexcel/modules/ui_extra_networks_hypernets.py  \n",
            "  inflating: microsoftexcel/modules/ui_extra_networks_textual_inversion.py  \n",
            "  inflating: microsoftexcel/modules/ui_loadsave.py  \n",
            "  inflating: microsoftexcel/modules/ui_postprocessing.py  \n",
            "  inflating: microsoftexcel/modules/ui_tempdir.py  \n",
            "  inflating: microsoftexcel/modules/upscaler.py  \n",
            "  inflating: microsoftexcel/modules/xlmr.py  \n",
            "  inflating: microsoftexcel/package.json  \n",
            "  inflating: microsoftexcel/pyproject.toml  \n",
            "  inflating: microsoftexcel/README.md  \n",
            "  inflating: microsoftexcel/requirements-test.txt  \n",
            "  inflating: microsoftexcel/requirements.txt  \n",
            "  inflating: microsoftexcel/requirements_versions.txt  \n",
            "  inflating: microsoftexcel/screenshot.png  \n",
            "  inflating: microsoftexcel/script.js  \n",
            "   creating: microsoftexcel/scripts/\n",
            "  inflating: microsoftexcel/scripts/custom_code.py  \n",
            "  inflating: microsoftexcel/scripts/img2imgalt.py  \n",
            "  inflating: microsoftexcel/scripts/loopback.py  \n",
            "  inflating: microsoftexcel/scripts/outpainting_mk_2.py  \n",
            "  inflating: microsoftexcel/scripts/poor_mans_outpainting.py  \n",
            "  inflating: microsoftexcel/scripts/postprocessing_codeformer.py  \n",
            "  inflating: microsoftexcel/scripts/postprocessing_gfpgan.py  \n",
            "  inflating: microsoftexcel/scripts/postprocessing_upscale.py  \n",
            "  inflating: microsoftexcel/scripts/prompts_from_file.py  \n",
            "  inflating: microsoftexcel/scripts/prompt_matrix.py  \n",
            "  inflating: microsoftexcel/scripts/sd_upscale.py  \n",
            "  inflating: microsoftexcel/scripts/xyz_grid.py  \n",
            "  inflating: microsoftexcel/style.css  \n",
            "   creating: microsoftexcel/test/\n",
            "  inflating: microsoftexcel/test/conftest.py  \n",
            "  inflating: microsoftexcel/test/test_extras.py  \n",
            "   creating: microsoftexcel/test/test_files/\n",
            "  inflating: microsoftexcel/test/test_files/empty.pt  \n",
            "  inflating: microsoftexcel/test/test_files/img2img_basic.png  \n",
            "  inflating: microsoftexcel/test/test_files/mask_basic.png  \n",
            "  inflating: microsoftexcel/test/test_img2img.py  \n",
            "  inflating: microsoftexcel/test/test_txt2img.py  \n",
            "  inflating: microsoftexcel/test/test_utils.py  \n",
            " extracting: microsoftexcel/test/__init__.py  \n",
            "   creating: microsoftexcel/textual_inversion_templates/\n",
            "  inflating: microsoftexcel/textual_inversion_templates/hypernetwork.txt  \n",
            "  inflating: microsoftexcel/textual_inversion_templates/none.txt  \n",
            "  inflating: microsoftexcel/textual_inversion_templates/style.txt  \n",
            "  inflating: microsoftexcel/textual_inversion_templates/style_filewords.txt  \n",
            "  inflating: microsoftexcel/textual_inversion_templates/subject.txt  \n",
            "  inflating: microsoftexcel/textual_inversion_templates/subject_filewords.txt  \n",
            "  inflating: microsoftexcel/webui-macos-env.sh  \n",
            "  inflating: microsoftexcel/webui-user.bat  \n",
            "  inflating: microsoftexcel/webui-user.sh  \n",
            "  inflating: microsoftexcel/webui.bat  \n",
            "  inflating: microsoftexcel/webui.py  \n",
            "  inflating: microsoftexcel/webui.sh  \n",
            "Cloning into 'microsoftexcel/models/Stable-diffusion/.content'...\n",
            "fatal: unable to update url base from redirection:\n",
            "  asked for: https://civitai.com/api/download/models/84143/info/refs?service=git-upload-pack\n",
            "   redirect: https://civitai.com/login?returnUrl=/api/download/models/84143/info/refs\n",
            "Cloning into 'microsoftexcel/models/Lora/.content'...\n",
            "fatal: unable to update url base from redirection:\n",
            "  asked for: https://civitai.com/api/download/models/84143/info/refs?service=git-upload-pack\n",
            "   redirect: https://civitai.com/login?returnUrl=/api/download/models/84143/info/refs\n",
            "/content/microsoftexcel\n"
          ]
        }
      ],
      "source": [
        "#@markdown # Iniciar Consola\n",
        "#!git clone https://github.com/nolanaatama/microsoftexcel-tunnels /content/microsoftexcel/extensions/microsoftexcel-tunnels\n",
        "!git clone https://github.com/nolanaatama/microsoftexcel-controlnet /content/microsoftexcel/extensions/microsoftexcel-controlnet\n",
        "#!git clone https://github.com/fkunn1326/openpose-editor /content/microsoftexcel/extensions/openpose-editor\n",
        "#!git clone https://github.com/hnmr293/posex /content/microsoftexcel/extensions/posex\n",
        "!git clone https://github.com/nolanaatama/a1111-microsoftexcel-tagcomplete /content/microsoftexcel/extensions/a1111-microsoftexcel-tagcomplete\n",
        "#!git clone https://github.com/nolanaatama/microsoftexcel-supermerger /content/microsoftexcel/extensions/microsoftexcel-supermerger\n",
        "#!git clone https://github.com/Coyote-A/ultimate-upscale-for-automatic1111 /content/microsoftexcel/extensions/ultimate-upscale-for-automatic1111\n",
        "#!git clone https://github.com/nolanaatama/a1111-microsoftexcel-locon /content/microsoftexcel/extensions/a1111-microsoftexcel-locon\n",
        "!mkdir /content/microsoftexcel/models/ESRGAN\n",
        "!curl -Lo /content/microsoftexcel/extensions/microsoftexcel-images-browser.zip https://huggingface.co/nolanaatama/colab/resolve/main/microsoftexcel-images-browser.zip\n",
        "!curl -Lo /content/microsoftexcel/embeddings/embeddings.zip https://huggingface.co/nolanaatama/colab/resolve/main/embeddings.zip\n",
        "!curl -Lo /content/microsoftexcel/models/ESRGAN/upscalers.zip https://huggingface.co/nolanaatama/colab/resolve/main/upscalers.zip\n",
        "%cd /content/microsoftexcel/extensions\n",
        "!unzip /content/microsoftexcel/extensions/microsoftexcel-images-browser.zip\n",
        "%cd /content/microsoftexcel/embeddings\n",
        "!unzip /content/microsoftexcel/embeddings/embeddings.zip\n",
        "%cd /content/microsoftexcel/models/ESRGAN\n",
        "!unzip /content/microsoftexcel/models/ESRGAN/upscalers.zip\n",
        "!rm upscalers.zip\n",
        "%cd /content\n",
        "!curl -Lo microsoftexcel.zip https://huggingface.co/nolanaatama/colab/resolve/main/microsoftexcel131.zip\n",
        "!unzip /content/microsoftexcel\n",
        "!git clone https://civitai.com/api/download/models/84143 microsoftexcel/models/Stable-diffusion/.content\n",
        "!git clone https://civitai.com/api/download/models/84143 microsoftexcel/models/Lora/.content\n",
        "\n",
        "# ControlNet\n",
        "# Remove '#' from the beginning of the line(s) below to download the selected ControlNet model(s)\n",
        "#!curl -Lo /content/microsoftexcel/extensions/microsoftexcel-controlnet/models/control_v11e_sd15_ip2p.safetensors https://huggingface.co/nolanaatama/models/resolve/main/control_v11e_sd15_ip2p_fp16.safetensors\n",
        "#!curl -Lo /content/microsoftexcel/extensions/microsoftexcel-controlnet/models/control_v11e_sd15_shuffle.safetensors https://huggingface.co/nolanaatama/models/resolve/main/control_v11e_sd15_shuffle_fp16.safetensors\n",
        "#!curl -Lo /content/microsoftexcel/extensions/microsoftexcel-controlnet/models/control_v11p_sd15_canny.safetensors https://huggingface.co/nolanaatama/models/resolve/main/control_v11p_sd15_canny_fp16.safetensors\n",
        "#!curl -Lo /content/microsoftexcel/extensions/microsoftexcel-controlnet/models/control_v11f1p_sd15_depth.safetensors https://huggingface.co/nolanaatama/models/resolve/main/control_v11p_sd15_depth_fp16.safetensors\n",
        "#!curl -Lo /content/microsoftexcel/extensions/microsoftexcel-controlnet/models/control_v11p_sd15_inpaint.safetensors https://huggingface.co/nolanaatama/models/resolve/main/control_v11p_sd15_inpaint_fp16.safetensors\n",
        "#!curl -Lo /content/microsoftexcel/extensions/microsoftexcel-controlnet/models/control_v11p_sd15_lineart.safetensors https://huggingface.co/nolanaatama/models/resolve/main/control_v11p_sd15_lineart_fp16.safetensors\n",
        "#!curl -Lo /content/microsoftexcel/extensions/microsoftexcel-controlnet/models/control_v11p_sd15_mlsd.safetensors https://huggingface.co/nolanaatama/models/resolve/main/control_v11p_sd15_mlsd_fp16.safetensors\n",
        "#!curl -Lo /content/microsoftexcel/extensions/microsoftexcel-controlnet/models/control_v11p_sd15_normalbae.safetensors https://huggingface.co/nolanaatama/models/resolve/main/control_v11p_sd15_normalbae_fp16.safetensors\n",
        "#!curl -Lo /content/microsoftexcel/extensions/microsoftexcel-controlnet/models/control_v11p_sd15_openpose.safetensors https://huggingface.co/nolanaatama/models/resolve/main/control_v11p_sd15_openpose_fp16.safetensors\n",
        "#!curl -Lo /content/microsoftexcel/extensions/microsoftexcel-controlnet/models/control_v11p_sd15_scribble.safetensors https://huggingface.co/nolanaatama/models/resolve/main/control_v11p_sd15_scribble_fp16.safetensors\n",
        "#!curl -Lo /content/microsoftexcel/extensions/microsoftexcel-controlnet/models/control_v11p_sd15_seg.safetensors https://huggingface.co/nolanaatama/models/resolve/main/control_v11p_sd15_seg_fp16.safetensors\n",
        "#!curl -Lo /content/microsoftexcel/extensions/microsoftexcel-controlnet/models/control_v11p_sd15_softedge.safetensors https://huggingface.co/nolanaatama/models/resolve/main/control_v11p_sd15_softedge_fp16.safetensors\n",
        "#!curl -Lo /content/microsoftexcel/extensions/microsoftexcel-controlnet/models/control_v11p_sd15s2_lineart_anime.safetensors https://huggingface.co/nolanaatama/models/resolve/main/control_v11p_sd15s2_lineart_anime_fp16.safetensors\n",
        "#!curl -Lo /content/microsoftexcel/extensions/microsoftexcel-controlnet/models/control_v11f1e_sd15_tile.safetensors https://huggingface.co/nolanaatama/models/resolve/main/control_v11f1e_sd15_tile_fp16.safetensors\n",
        "#!curl -Lo /content/microsoftexcel/extensions/microsoftexcel-controlnet/models/t2iadapter_canny_sd14v1.pth https://huggingface.co/nolanaatama/models/resolve/main/t2iadapter_canny_sd14v1.pth\n",
        "#!curl -Lo /content/microsoftexcel/extensions/microsoftexcel-controlnet/models/t2iadapter_color_sd14v1.pth https://huggingface.co/nolanaatama/models/resolve/main/t2iadapter_color_sd14v1.pth\n",
        "#!curl -Lo /content/microsoftexcel/extensions/microsoftexcel-controlnet/models/t2iadapter_depth_sd14v1.pth https://huggingface.co/nolanaatama/models/resolve/main/t2iadapter_depth_sd14v1.pth\n",
        "#!curl -Lo /content/microsoftexcel/extensions/microsoftexcel-controlnet/models/t2iadapter_keypose_sd14v1.pth https://huggingface.co/nolanaatama/models/resolve/main/t2iadapter_keypose_sd14v1.pth\n",
        "#!curl -Lo /content/microsoftexcel/extensions/microsoftexcel-controlnet/models/t2iadapter_openpose_sd14v1.pth https://huggingface.co/nolanaatama/models/resolve/main/t2iadapter_openpose_sd14v1.pth\n",
        "#!curl -Lo /content/microsoftexcel/extensions/microsoftexcel-controlnet/models/t2iadapter_seg_sd14v1.pth https://huggingface.co/nolanaatama/models/resolve/main/t2iadapter_seg_sd14v1.pth\n",
        "#!curl -Lo /content/microsoftexcel/extensions/microsoftexcel-controlnet/models/t2iadapter_sketch_sd14v1.pth https://huggingface.co/nolanaatama/models/resolve/main/t2iadapter_sketch_sd14v1.pth\n",
        "#!curl -Lo /content/microsoftexcel/extensions/microsoftexcel-controlnet/models/t2iadapter_style_sd14v1.pth https://huggingface.co/nolanaatama/models/resolve/main/t2iadapter_style_sd14v1.pth\n",
        "!rm microsoftexcel.zip\n",
        "%cd /content/microsoftexcel"
      ]
    },
    {
      "cell_type": "markdown",
      "source": [
        "# 2. Cargar modelo [S] 📦"
      ],
      "metadata": {
        "id": "-sl6o_-kCsL0"
      }
    },
    {
      "cell_type": "markdown",
      "source": [
        "## Descargar Modelo individual"
      ],
      "metadata": {
        "id": "mbdK1qcd8kcD"
      }
    },
    {
      "cell_type": "code",
      "source": [
        "\n",
        "# Model(s) setup\n",
        "\n",
        "# Below are model code for ChilloutMix, we always could change it to our desired model\n",
        "# Change the file path to our LoRA file path.\n",
        "# Remove the '#' from the beginning of the other lines to load additional files.\n",
        "\n",
        "!curl -Lo /content/microsoftexcel/models/Stable-diffusion/Realistic_v6.safetensors https://civitai.com/api/download/models/94640\n",
        "#!curl -Lo /content/microsoftexcel/models/Stable-diffusion/model.safetensors https://civitai.com/\n",
        "#!curl -Lo /content/microsoftexcel/models/Stable-diffusion/model.safetensors https://civitai.com/\n",
        "#!curl -Lo /content/microsoftexcel/models/Stable-diffusion/model.safetensors https://civitai.com/\n",
        "#!curl -Lo /content/microsoftexcel/models/Stable-diffusion/model.safetensors https://civitai.com/\n",
        "#!curl -Lo /content/microsoftexcel/models/Stable-diffusion/model.safetensors https://civitai.com/\n",
        "# ...."
      ],
      "metadata": {
        "id": "CdjlVOKx6o3e"
      },
      "execution_count": null,
      "outputs": []
    },
    {
      "cell_type": "markdown",
      "source": [
        "# 3. Cargar Lora [S] 📚"
      ],
      "metadata": {
        "id": "DQwVPx-t8Nol"
      }
    },
    {
      "cell_type": "markdown",
      "source": [
        "## Descargar Lora individual"
      ],
      "metadata": {
        "id": "OJx4QIQosMMq"
      }
    },
    {
      "cell_type": "code",
      "source": [
        "\n",
        "# Lora(s) setup\n",
        "\n",
        "# Below are model code for ChilloutMix, we always could change it to our desired model\n",
        "# Change the file path to our LoRA file path.\n",
        "# Remove the '#' from the beginning of the other lines to load additional files.\n",
        "\n",
        "!curl -Lo /content/microsoftexcel/models/Lora/Model.safetensors https://civitai.com/\n",
        "#!curl -Lo /content/microsoftexcel/models/Lora/model.safetensors https://civitai.com/\n",
        "#!curl -Lo /content/microsoftexcel/models/Lora/model.safetensors https://civitai.com/\n",
        "#!curl -Lo /content/microsoftexcel/models/Lora/model.safetensors https://civitai.com/\n",
        "#!curl -Lo /content/microsoftexcel/models/Lora/model.safetensors https://civitai.com/\n",
        "#!curl -Lo /content/microsoftexcel/models/Lora/model.safetensors https://civitai.com/\n",
        "# ...."
      ],
      "metadata": {
        "id": "1E0f1kMTrGJ0"
      },
      "execution_count": null,
      "outputs": []
    },
    {
      "cell_type": "markdown",
      "source": [
        "##Descargar Lora de Drive"
      ],
      "metadata": {
        "id": "47CPtGUfsar8"
      }
    },
    {
      "cell_type": "code",
      "source": [
        "\n",
        "# Lora(s) setup\n",
        "\n",
        "# Remove the '#' from the '!cp -r ...' line and change the file path to our LoRA folder path.\n",
        "# The LoRA folder path must be ended with '/.' like '/folder/subfolder/.'\n",
        "\n",
        "!cp -r '/content/drive/MyDrive/Lora/.' '/content/microsoftexcel/models/Lora'\n",
        "#!cp -r '/content/drive/MyDrive/Lora/.' '/content/microsoftexcel/models/Lora'\n",
        "#!cp -r '/content/drive/MyDrive/Lora/.' '/content/microsoftexcel/models/Lora'\n",
        "# ...."
      ],
      "metadata": {
        "id": "dKmIwc3lsYR6",
        "colab": {
          "base_uri": "https://localhost:8080/"
        },
        "outputId": "0094cdb5-df00-4d5f-bca7-0531bd4e2491"
      },
      "execution_count": null,
      "outputs": [
        {
          "output_type": "stream",
          "name": "stdout",
          "text": [
            "cp: cannot stat '/content/drive/MyDrive/Lora/.': No such file or directory\n"
          ]
        }
      ]
    },
    {
      "cell_type": "markdown",
      "source": [
        "# 4. Iniciar interfaz 🖥️"
      ],
      "metadata": {
        "id": "R-WXDJ8n8R2X"
      }
    },
    {
      "cell_type": "code",
      "source": [
        "#@markdown # Iniciar\n",
        "# Web UI tunnel\n",
        "!COMMANDLINE_ARGS=\"--share --disable-safe-unpickle --no-half-vae --xformers --enable-insecure-extension --gradio-queue\" REQS_FILE=\"requirements.txt\" python launch.py\n",
        "# Use this command below to use cloudflare tunnel\n",
        "#!COMMANDLINE_ARGS=\"--disable-safe-unpickle --no-half-vae --xformers --enable-insecure-extension --gradio-queue --cloudflared\" REQS_FILE=\"requirements.txt\" python launch.py\n",
        ","
      ],
      "metadata": {
        "id": "TFuxn-DE7t82"
      },
      "execution_count": null,
      "outputs": []
    },
    {
      "cell_type": "markdown",
      "metadata": {
        "id": "fhwIXzcgfkoR"
      },
      "source": [
        ".\n",
        "\n",
        "\n",
        ".\n",
        "\n",
        "\n",
        ".\n",
        "\n",
        "\n",
        ".\n",
        "\n",
        "\n",
        ".\n",
        "\n",
        "\n",
        ".\n",
        "# 📫 Creador: [_@nolanaatama_](https://github.com/nolanaatama)\n",
        "# 🌌 Diseño: [Github](https://github.com/Cocoy1/SD-Colab-1click)\n",
        "# 🧸 Más Modelos: [Civitai](https://civitai.com/)"
      ]
    }
  ],
  "metadata": {
    "accelerator": "GPU",
    "colab": {
      "provenance": [],
      "collapsed_sections": [
        "VhK7zmjdgQDm",
        "JUtPlg328avv",
        "bsiZpfkU7S77",
        "-sl6o_-kCsL0",
        "mbdK1qcd8kcD",
        "DQwVPx-t8Nol",
        "OJx4QIQosMMq",
        "47CPtGUfsar8",
        "R-WXDJ8n8R2X"
      ],
      "name": "Interfaz_SD.ipynb",
      "include_colab_link": true
    },
    "gpuClass": "standard",
    "kernelspec": {
      "display_name": "Python 3",
      "name": "python3"
    },
    "language_info": {
      "name": "python"
    }
  },
  "nbformat": 4,
  "nbformat_minor": 0
}